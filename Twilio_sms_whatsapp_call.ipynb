{
  "nbformat": 4,
  "nbformat_minor": 0,
  "metadata": {
    "colab": {
      "provenance": []
    },
    "kernelspec": {
      "name": "python3",
      "display_name": "Python 3"
    },
    "language_info": {
      "name": "python"
    }
  },
  "cells": [
    {
      "cell_type": "code",
      "execution_count": 1,
      "metadata": {
        "colab": {
          "base_uri": "https://localhost:8080/"
        },
        "id": "D4w-RXNqaHx_",
        "outputId": "0737b845-3b11-499b-e39a-b90ae847d0cd"
      },
      "outputs": [
        {
          "output_type": "stream",
          "name": "stdout",
          "text": [
            "Collecting twilio\n",
            "  Downloading twilio-9.5.1-py2.py3-none-any.whl.metadata (12 kB)\n",
            "Requirement already satisfied: requests>=2.0.0 in /usr/local/lib/python3.11/dist-packages (from twilio) (2.32.3)\n",
            "Requirement already satisfied: PyJWT<3.0.0,>=2.0.0 in /usr/local/lib/python3.11/dist-packages (from twilio) (2.10.1)\n",
            "Requirement already satisfied: aiohttp>=3.8.4 in /usr/local/lib/python3.11/dist-packages (from twilio) (3.11.14)\n",
            "Collecting aiohttp-retry>=2.8.3 (from twilio)\n",
            "  Downloading aiohttp_retry-2.9.1-py3-none-any.whl.metadata (8.8 kB)\n",
            "Requirement already satisfied: aiohappyeyeballs>=2.3.0 in /usr/local/lib/python3.11/dist-packages (from aiohttp>=3.8.4->twilio) (2.6.1)\n",
            "Requirement already satisfied: aiosignal>=1.1.2 in /usr/local/lib/python3.11/dist-packages (from aiohttp>=3.8.4->twilio) (1.3.2)\n",
            "Requirement already satisfied: attrs>=17.3.0 in /usr/local/lib/python3.11/dist-packages (from aiohttp>=3.8.4->twilio) (25.3.0)\n",
            "Requirement already satisfied: frozenlist>=1.1.1 in /usr/local/lib/python3.11/dist-packages (from aiohttp>=3.8.4->twilio) (1.5.0)\n",
            "Requirement already satisfied: multidict<7.0,>=4.5 in /usr/local/lib/python3.11/dist-packages (from aiohttp>=3.8.4->twilio) (6.2.0)\n",
            "Requirement already satisfied: propcache>=0.2.0 in /usr/local/lib/python3.11/dist-packages (from aiohttp>=3.8.4->twilio) (0.3.1)\n",
            "Requirement already satisfied: yarl<2.0,>=1.17.0 in /usr/local/lib/python3.11/dist-packages (from aiohttp>=3.8.4->twilio) (1.18.3)\n",
            "Requirement already satisfied: charset-normalizer<4,>=2 in /usr/local/lib/python3.11/dist-packages (from requests>=2.0.0->twilio) (3.4.1)\n",
            "Requirement already satisfied: idna<4,>=2.5 in /usr/local/lib/python3.11/dist-packages (from requests>=2.0.0->twilio) (3.10)\n",
            "Requirement already satisfied: urllib3<3,>=1.21.1 in /usr/local/lib/python3.11/dist-packages (from requests>=2.0.0->twilio) (2.3.0)\n",
            "Requirement already satisfied: certifi>=2017.4.17 in /usr/local/lib/python3.11/dist-packages (from requests>=2.0.0->twilio) (2025.1.31)\n",
            "Downloading twilio-9.5.1-py2.py3-none-any.whl (1.9 MB)\n",
            "\u001b[2K   \u001b[90m━━━━━━━━━━━━━━━━━━━━━━━━━━━━━━━━━━━━━━━━\u001b[0m \u001b[32m1.9/1.9 MB\u001b[0m \u001b[31m17.7 MB/s\u001b[0m eta \u001b[36m0:00:00\u001b[0m\n",
            "\u001b[?25hDownloading aiohttp_retry-2.9.1-py3-none-any.whl (10.0 kB)\n",
            "Installing collected packages: aiohttp-retry, twilio\n",
            "Successfully installed aiohttp-retry-2.9.1 twilio-9.5.1\n"
          ]
        }
      ],
      "source": [
        "!pip install twilio"
      ]
    },
    {
      "cell_type": "markdown",
      "source": [
        "activate whatsapp sandbox\n",
        "\n",
        "join crop-path"
      ],
      "metadata": {
        "id": "3saY7jPN-LZ_"
      }
    },
    {
      "cell_type": "markdown",
      "source": [
        "**Whatsapp notification**"
      ],
      "metadata": {
        "id": "t1n8fGydgnHp"
      }
    },
    {
      "cell_type": "code",
      "source": [
        "from twilio.rest import Client\n",
        "\n",
        "account_sid = 'ACfde97a5bd4929cbccd69e0e780748ecf'\n",
        "auth_token = 'ccd41adb4f7773b8be3d76831ed7645f'\n",
        "client = Client(account_sid, auth_token)\n",
        "\n",
        "message = client.messages.create(\n",
        "  #  body=\"🚀 Take control of your finances today! Our Digital Expense Tracker helps you save money, track spending, and reach your financial goals effortlessly. Download now and get 30 days free premium access! 💰📊\",\n",
        "   body=\"Pest alert\",\n",
        "   from_='whatsapp:+14155238886',\n",
        "   to='whatsapp:+917550293777'\n",
        ")\n",
        "print(message.sid)"
      ],
      "metadata": {
        "colab": {
          "base_uri": "https://localhost:8080/"
        },
        "id": "PmxVwbQ9DtTs",
        "outputId": "2b127354-f01f-40a1-8f76-1bccace48cd9"
      },
      "execution_count": 4,
      "outputs": [
        {
          "output_type": "stream",
          "name": "stdout",
          "text": [
            "SM28da629790314dc1f41f60c6d8089278\n"
          ]
        }
      ]
    },
    {
      "cell_type": "markdown",
      "source": [
        "**SMS Notification**"
      ],
      "metadata": {
        "id": "JhhIdJ3Igtz_"
      }
    },
    {
      "cell_type": "code",
      "source": [
        "from twilio.rest import Client\n",
        "\n",
        "# Replace with your Twilio credentials\n",
        "account_sid = 'ACfde97a5bd4929cbccd69e0e780748ecf'  # Your Account SID\n",
        "auth_token = 'ccd41adb4f7773b8be3d76831ed7645f'     # Your Auth Token\n",
        "client = Client(account_sid, auth_token)\n",
        "\n",
        "# Send an SMS\n",
        "message = client.messages.create(\n",
        "    # body=\"🚀 Take control of your finances today! Our Digital Expense Tracker helps you save money, track spending, and reach your financial goals effortlessly. Download now and get 30 days free premium access! 💰📊\",  # Your message\n",
        "    body=\"Pest alert reminder\",\n",
        "    from_='+17249954675',        # Your Twilio phone number (must be purchased)\n",
        "    to='+917550293777'          # Recipient's phone number\n",
        ")\n",
        "\n",
        "print(message.sid)"
      ],
      "metadata": {
        "colab": {
          "base_uri": "https://localhost:8080/"
        },
        "id": "JSn3_NgKczhF",
        "outputId": "0d1efc74-a582-4d29-c5da-087bff16ef69"
      },
      "execution_count": 3,
      "outputs": [
        {
          "output_type": "stream",
          "name": "stdout",
          "text": [
            "SM4746d2733dab416928f1cb827c03224e\n"
          ]
        }
      ]
    },
    {
      "cell_type": "markdown",
      "source": [
        "**For Call Notification to notify about the event renminders**"
      ],
      "metadata": {
        "id": "3qQcm2gYjsXf"
      }
    },
    {
      "cell_type": "code",
      "source": [
        "from twilio.rest import Client\n",
        "\n",
        "# Replace with your Twilio credentials\n",
        "account_sid = 'ACfde97a5bd4929cbccd69e0e780748ecf'  # Your Account SID\n",
        "auth_token = 'ccd41adb4f7773b8be3d76831ed7645f'     # Your Auth Token\n",
        "client = Client(account_sid, auth_token)\n",
        "\n",
        "# Make a phone call\n",
        "call = client.calls.create(\n",
        "    url='http://demo.twilio.com/docs/voice.xml',  # TwiML URL for the call\n",
        "    to='+917550293777',                          # Recipient's phone number\n",
        "    from_='+17249954675'                         # Your Twilio phone number\n",
        ")\n",
        "\n",
        "print(call.sid)"
      ],
      "metadata": {
        "colab": {
          "base_uri": "https://localhost:8080/"
        },
        "id": "IqwdqyPmgfZ6",
        "outputId": "b8dedeba-91bf-4cc0-b665-397110740900"
      },
      "execution_count": 4,
      "outputs": [
        {
          "output_type": "stream",
          "name": "stdout",
          "text": [
            "CA30fff378e5162a7be256345f8bcaa2d0\n"
          ]
        }
      ]
    },
    {
      "cell_type": "code",
      "source": [],
      "metadata": {
        "id": "WjNS-aum7rW5"
      },
      "execution_count": null,
      "outputs": []
    },
    {
      "cell_type": "code",
      "source": [],
      "metadata": {
        "id": "9csylezZJvfS"
      },
      "execution_count": null,
      "outputs": []
    }
  ]
}